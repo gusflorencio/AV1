{
 "cells": [
  {
   "cell_type": "markdown",
   "metadata": {},
   "source": [
    "![Questão]({635BCD09-369F-4E5D-B02D-99BAF6B68CF5}.png)"
   ]
  },
  {
   "cell_type": "markdown",
   "metadata": {},
   "source": [
    "![Fluxo]({ED5676FF-7F50-4AA4-8020-49D0B26D2AA1}.png)"
   ]
  },
  {
   "cell_type": "code",
   "execution_count": null,
   "metadata": {},
   "outputs": [
    {
     "name": "stdout",
     "output_type": "stream",
     "text": [
      "DIGITE SEU RA:  1234\n",
      "SOMA DOS DIGITOS DO RA:  10\n",
      "VELOCIDADE INICIAL V0:  20\n",
      "ALTUYRA MAXIMA ATINGIDA:  20.408163265306122\n"
     ]
    }
   ],
   "source": [
    "#AV1 \n",
    "SOMA=0\n",
    "ra = input(\"Digite seu RA: \")\n",
    "for i in ra:\n",
    "    SOMA= SOMA + int(i)\n",
    "\n",
    "v0 = x*2\n",
    "g = 9.8\n",
    "hmax = (v0**2)/(2*g)\n",
    "\n",
    "print(\"DIGITE SEU RA: \",ra)\n",
    "print(\"SOMA DOS DIGITOS DO RA: \",SOMA)\n",
    "print(\"VELOCIDADE INICIAL V0: \",v0)\n",
    "print(\"ALTURA MAXIMA ATINGIDA: \",hmax)\n",
    "\n"
   ]
  }
 ],
 "metadata": {
  "kernelspec": {
   "display_name": "base",
   "language": "python",
   "name": "python3"
  },
  "language_info": {
   "codemirror_mode": {
    "name": "ipython",
    "version": 3
   },
   "file_extension": ".py",
   "mimetype": "text/x-python",
   "name": "python",
   "nbconvert_exporter": "python",
   "pygments_lexer": "ipython3",
   "version": "3.12.7"
  }
 },
 "nbformat": 4,
 "nbformat_minor": 2
}
